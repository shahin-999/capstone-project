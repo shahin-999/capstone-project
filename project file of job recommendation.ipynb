{
  "nbformat": 4,
  "nbformat_minor": 0,
  "metadata": {
    "colab": {
      "name": "Job_Recommendation.ipynb",
      "provenance": [],
      "collapsed_sections": []
    },
    "kernelspec": {
      "name": "python3",
      "display_name": "Python 3"
    },
    "language_info": {
      "name": "python"
    },
    "accelerator": "GPU"
  },
  "cells": [
    {
      "cell_type": "markdown",
      "metadata": {
        "id": "2l_k-jrYifxK"
      },
      "source": [
        "**Setup (Import library)**"
      ]
    },
    {
      "cell_type": "code",
      "metadata": {
        "id": "A2FdfMOCiliG"
      },
      "source": [
        "import pandas as pd\n",
        "import numpy as np\n",
        "from matplotlib import pyplot as plt\n",
        "from google.colab import drive\n",
        "import seaborn as sns"
      ],
      "execution_count": null,
      "outputs": []
    },
    {
      "cell_type": "code",
      "metadata": {
        "id": "y-MPDNnkivmm",
        "colab": {
          "base_uri": "https://localhost:8080/"
        },
        "outputId": "a6449cce-3282-4ade-bcf0-913781831b4f"
      },
      "source": [
        "drive.mount(\"/content/drive\")"
      ],
      "execution_count": null,
      "outputs": [
        {
          "output_type": "stream",
          "name": "stdout",
          "text": [
            "Drive already mounted at /content/drive; to attempt to forcibly remount, call drive.mount(\"/content/drive\", force_remount=True).\n"
          ]
        }
      ]
    },
    {
      "cell_type": "markdown",
      "metadata": {
        "id": "mGJ05PZ3iw2m"
      },
      "source": [
        "**Read data**"
      ]
    },
    {
      "cell_type": "code",
      "metadata": {
        "id": "1ke2N3NWneb3",
        "colab": {
          "base_uri": "https://localhost:8080/",
          "height": 204
        },
        "outputId": "dc543078-5353-4067-aeec-6ea9f0194062"
      },
      "source": [
        "#Dataset drive link: https://drive.google.com/file/d/131tfMf4rGCKxSvxh2x7LPBtqOc4v-EFE/view?usp=sharing\n",
        "\n",
        "path = 'drive/MyDrive/Colab Notebooks/Dataset/job_data.csv'\n",
        "job_data = pd.read_csv(path)\n",
        "job_data.head()"
      ],
      "execution_count": null,
      "outputs": [
        {
          "output_type": "execute_result",
          "data": {
            "text/html": [
              "<div>\n",
              "<style scoped>\n",
              "    .dataframe tbody tr th:only-of-type {\n",
              "        vertical-align: middle;\n",
              "    }\n",
              "\n",
              "    .dataframe tbody tr th {\n",
              "        vertical-align: top;\n",
              "    }\n",
              "\n",
              "    .dataframe thead th {\n",
              "        text-align: right;\n",
              "    }\n",
              "</style>\n",
              "<table border=\"1\" class=\"dataframe\">\n",
              "  <thead>\n",
              "    <tr style=\"text-align: right;\">\n",
              "      <th></th>\n",
              "      <th>Gender</th>\n",
              "      <th>Age</th>\n",
              "      <th>SSC</th>\n",
              "      <th>HSC</th>\n",
              "      <th>Honors Department</th>\n",
              "      <th>Masters Department</th>\n",
              "      <th>SSC Result</th>\n",
              "      <th>HSC Result</th>\n",
              "      <th>Honors Result</th>\n",
              "      <th>Masters Result</th>\n",
              "      <th>S.Q</th>\n",
              "      <th>Previous Job</th>\n",
              "      <th>Period of Job</th>\n",
              "      <th>New Job</th>\n",
              "    </tr>\n",
              "  </thead>\n",
              "  <tbody>\n",
              "    <tr>\n",
              "      <th>0</th>\n",
              "      <td>1</td>\n",
              "      <td>24</td>\n",
              "      <td>2</td>\n",
              "      <td>2</td>\n",
              "      <td>12</td>\n",
              "      <td>12</td>\n",
              "      <td>5.0</td>\n",
              "      <td>5.0</td>\n",
              "      <td>4.00</td>\n",
              "      <td>3.75</td>\n",
              "      <td>37;39</td>\n",
              "      <td>0</td>\n",
              "      <td>0</td>\n",
              "      <td>46</td>\n",
              "    </tr>\n",
              "    <tr>\n",
              "      <th>1</th>\n",
              "      <td>1</td>\n",
              "      <td>26</td>\n",
              "      <td>2</td>\n",
              "      <td>2</td>\n",
              "      <td>13</td>\n",
              "      <td>13</td>\n",
              "      <td>3.5</td>\n",
              "      <td>2.0</td>\n",
              "      <td>3.25</td>\n",
              "      <td>3.50</td>\n",
              "      <td>28;29;30;32;33;34;39</td>\n",
              "      <td>0</td>\n",
              "      <td>0</td>\n",
              "      <td>42</td>\n",
              "    </tr>\n",
              "    <tr>\n",
              "      <th>2</th>\n",
              "      <td>1</td>\n",
              "      <td>30</td>\n",
              "      <td>2</td>\n",
              "      <td>2</td>\n",
              "      <td>14</td>\n",
              "      <td>14</td>\n",
              "      <td>3.5</td>\n",
              "      <td>3.0</td>\n",
              "      <td>3.50</td>\n",
              "      <td>3.75</td>\n",
              "      <td>29;36</td>\n",
              "      <td>46</td>\n",
              "      <td>4</td>\n",
              "      <td>48</td>\n",
              "    </tr>\n",
              "    <tr>\n",
              "      <th>3</th>\n",
              "      <td>1</td>\n",
              "      <td>27</td>\n",
              "      <td>2</td>\n",
              "      <td>2</td>\n",
              "      <td>15</td>\n",
              "      <td>15</td>\n",
              "      <td>4.0</td>\n",
              "      <td>4.0</td>\n",
              "      <td>3.75</td>\n",
              "      <td>3.50</td>\n",
              "      <td>29;38;39</td>\n",
              "      <td>47</td>\n",
              "      <td>2</td>\n",
              "      <td>48</td>\n",
              "    </tr>\n",
              "    <tr>\n",
              "      <th>4</th>\n",
              "      <td>1</td>\n",
              "      <td>23</td>\n",
              "      <td>2</td>\n",
              "      <td>2</td>\n",
              "      <td>10</td>\n",
              "      <td>0</td>\n",
              "      <td>4.0</td>\n",
              "      <td>3.5</td>\n",
              "      <td>3.50</td>\n",
              "      <td>0.00</td>\n",
              "      <td>27;28;29;33;34;36;38;39</td>\n",
              "      <td>0</td>\n",
              "      <td>0</td>\n",
              "      <td>40</td>\n",
              "    </tr>\n",
              "  </tbody>\n",
              "</table>\n",
              "</div>"
            ],
            "text/plain": [
              "   Gender  Age  SSC  ...  Previous Job  Period of Job  New Job\n",
              "0       1   24    2  ...             0              0       46\n",
              "1       1   26    2  ...             0              0       42\n",
              "2       1   30    2  ...            46              4       48\n",
              "3       1   27    2  ...            47              2       48\n",
              "4       1   23    2  ...             0              0       40\n",
              "\n",
              "[5 rows x 14 columns]"
            ]
          },
          "metadata": {},
          "execution_count": 124
        }
      ]
    },
    {
      "cell_type": "markdown",
      "metadata": {
        "id": "81wgupIrn3KK"
      },
      "source": [
        "**Visualize data**"
      ]
    },
    {
      "cell_type": "code",
      "metadata": {
        "id": "Z2UlKrzgn5Gw",
        "colab": {
          "base_uri": "https://localhost:8080/",
          "height": 320
        },
        "outputId": "dd83a7ca-7ca6-49a5-f177-1b62e81cd1b1"
      },
      "source": [
        "plt.figure(figsize=(5,5))\n",
        "plt.bar(list(job_data[\"SSC Result\"].value_counts().keys()),list(job_data[\"SSC Result\"].value_counts()),color=\"#7FFFD4\")\n",
        "plt.show()"
      ],
      "execution_count": null,
      "outputs": [
        {
          "output_type": "display_data",
          "data": {
            "image/png": "[encoded data removed]",
            "text/plain": [
              "<Figure size 360x360 with 1 Axes>"
            ]
          },
          "metadata": {}
        }
      ]
    },
    {
      "cell_type": "code",
      "metadata": {
        "id": "C9rmUrjmoaLY",
        "colab": {
          "base_uri": "https://localhost:8080/",
          "height": 320
        },
        "outputId": "5562767f-0477-4486-f1dd-a229bd738816"
      },
      "source": [
        "plt.figure(figsize=(5,5))\n",
        "plt.bar(list(job_data[\"HSC Result\"].value_counts().keys()),list(job_data[\"HSC Result\"].value_counts()),color=\"#00FFFF\")\n",
        "plt.show()"
      ],
      "execution_count": null,
      "outputs": [
        {
          "output_type": "display_data",
          "data": {
            "image/png": "[encoded data removed]",
            "text/plain": [
              "<Figure size 360x360 with 1 Axes>"
            ]
          },
          "metadata": {}
        }
      ]
    },
    {
      "cell_type": "code",
      "metadata": {
        "id": "NdNK7KJIPjyN",
        "colab": {
          "base_uri": "https://localhost:8080/",
          "height": 373
        },
        "outputId": "d833e1c5-0390-47c4-aec8-72157fab400c"
      },
      "source": [
        "fig, axs = plt.subplots(1, 2, figsize=(10, 5), sharey=True)\n",
        "axs[0].scatter(list(job_data[\"Honors Result\"].value_counts().keys()),list(job_data[\"Honors Result\"].value_counts()))\n",
        "axs[1].scatter(list(job_data[\"Masters Result\"].value_counts().keys()),list(job_data[\"Masters Result\"].value_counts()))\n",
        "\n",
        "fig.suptitle('Honors & Masters Result')"
      ],
      "execution_count": null,
      "outputs": [
        {
          "output_type": "execute_result",
          "data": {
            "text/plain": [
              "Text(0.5, 0.98, 'Honors & Masters Result')"
            ]
          },
          "metadata": {},
          "execution_count": 127
        },
        {
          "output_type": "display_data",
          "data": {
            "image/png": "[encoded data removed]",
            "text/plain": [
              "<Figure size 720x360 with 2 Axes>"
            ]
          },
          "metadata": {}
        }
      ]
    },
    {
      "cell_type": "code",
      "metadata": {
        "id": "ckiLlEzyofZQ",
        "colab": {
          "base_uri": "https://localhost:8080/",
          "height": 350
        },
        "outputId": "7853d4f3-9de5-4b5d-d327-b51ad8316841"
      },
      "source": [
        "plt.figure(figsize=(10,5))\n",
        "plt.hist(job_data[\"Age\"])\n",
        "plt.title(\"Distribution of age\")\n",
        "plt.xlabel(\"Age\")\n",
        "plt.show()"
      ],
      "execution_count": null,
      "outputs": [
        {
          "output_type": "display_data",
          "data": {
            "image/png": "[encoded data removed]",
            "text/plain": [
              "<Figure size 720x360 with 1 Axes>"
            ]
          },
          "metadata": {}
        }
      ]
    },
    {
      "cell_type": "code",
      "metadata": {
        "id": "3aHCwKL5pNyo",
        "colab": {
          "base_uri": "https://localhost:8080/",
          "height": 369
        },
        "outputId": "70f06587-9f0b-4b49-984a-6cfe8cad5452"
      },
      "source": [
        "sns.set_style(\"whitegrid\")\n",
        "sns.FacetGrid(job_data, hue=\"Period of Job\", height=5) \\\n",
        ".map(plt.scatter, \"Age\", \"Period of Job\") \\\n",
        ".add_legend()\n",
        "plt.show()"
      ],
      "execution_count": null,
      "outputs": [
        {
          "output_type": "display_data",
          "data": {
            "image/png": "[encoded data removed]",
            "text/plain": [
              "<Figure size 430.125x360 with 1 Axes>"
            ]
          },
          "metadata": {}
        }
      ]
    },
    {
      "cell_type": "code",
      "metadata": {
        "id": "NQCsC1jGphih",
        "colab": {
          "base_uri": "https://localhost:8080/"
        },
        "outputId": "49403642-aa51-4955-d5b4-777a8fb7c3e3"
      },
      "source": [
        "job_data[\"SSC\"].value_counts()\n",
        "#job_data[\"HSC\"].value_counts()\n",
        "#job_data[\"Honors Department\"].value_counts()\n",
        "#job_data[\"Masters Department\"].value_counts()"
      ],
      "execution_count": null,
      "outputs": [
        {
          "output_type": "execute_result",
          "data": {
            "text/plain": [
              "1    164\n",
              "2    155\n",
              "3     92\n",
              "Name: SSC, dtype: int64"
            ]
          },
          "metadata": {},
          "execution_count": 130
        }
      ]
    },
    {
      "cell_type": "markdown",
      "metadata": {
        "id": "2OWGPG2BpyaI"
      },
      "source": [
        "**Null value check**"
      ]
    },
    {
      "cell_type": "code",
      "metadata": {
        "id": "L770K9P-p1KY",
        "colab": {
          "base_uri": "https://localhost:8080/"
        },
        "outputId": "36e74c07-f1fe-4889-8840-365b68e06bb9"
      },
      "source": [
        "#job_data.isnull().sum()\n",
        "job_data.isnull().values.any()"
      ],
      "execution_count": null,
      "outputs": [
        {
          "output_type": "execute_result",
          "data": {
            "text/plain": [
              "False"
            ]
          },
          "metadata": {},
          "execution_count": 131
        }
      ]
    },
    {
      "cell_type": "markdown",
      "metadata": {
        "id": "VOaQB4ktNdnE"
      },
      "source": [
        "**Normalization**"
      ]
    },
    {
      "cell_type": "code",
      "metadata": {
        "id": "G07YKxfZNmJ8",
        "colab": {
          "base_uri": "https://localhost:8080/",
          "height": 204
        },
        "outputId": "777189f9-8381-45b0-fe99-4b5ad3cd98f5"
      },
      "source": [
        "from sklearn.preprocessing import MinMaxScaler\n",
        "scaler = MinMaxScaler()\n",
        "\n",
        "scl_ag = scaler.fit_transform(job_data[['Age']])\n",
        "scl_ssc_result = scaler.fit_transform(job_data[['SSC Result']])\n",
        "scl_hsc_result = scaler.fit_transform(job_data[['HSC Result']])\n",
        "scl_honors_result = scaler.fit_transform(job_data[['Honors Result']])\n",
        "scl_masters_result = scaler.fit_transform(job_data[['Masters Result']])\n",
        "\n",
        "job_data['Age'] = scl_ag\n",
        "job_data['SSC Result'] = scl_ssc_result\n",
        "job_data['HSC Result'] = scl_hsc_result\n",
        "job_data['Honors Result'] = scl_honors_result\n",
        "job_data['Masters Result'] = scl_masters_result\n",
        "\n",
        "job_data.head()"
      ],
      "execution_count": null,
      "outputs": [
        {
          "output_type": "execute_result",
          "data": {
            "text/html": [
              "<div>\n",
              "<style scoped>\n",
              "    .dataframe tbody tr th:only-of-type {\n",
              "        vertical-align: middle;\n",
              "    }\n",
              "\n",
              "    .dataframe tbody tr th {\n",
              "        vertical-align: top;\n",
              "    }\n",
              "\n",
              "    .dataframe thead th {\n",
              "        text-align: right;\n",
              "    }\n",
              "</style>\n",
              "<table border=\"1\" class=\"dataframe\">\n",
              "  <thead>\n",
              "    <tr style=\"text-align: right;\">\n",
              "      <th></th>\n",
              "      <th>Gender</th>\n",
              "      <th>Age</th>\n",
              "      <th>SSC</th>\n",
              "      <th>HSC</th>\n",
              "      <th>Honors Department</th>\n",
              "      <th>Masters Department</th>\n",
              "      <th>SSC Result</th>\n",
              "      <th>HSC Result</th>\n",
              "      <th>Honors Result</th>\n",
              "      <th>Masters Result</th>\n",
              "      <th>S.Q</th>\n",
              "      <th>Previous Job</th>\n",
              "      <th>Period of Job</th>\n",
              "      <th>New Job</th>\n",
              "    </tr>\n",
              "  </thead>\n",
              "  <tbody>\n",
              "    <tr>\n",
              "      <th>0</th>\n",
              "      <td>1</td>\n",
              "      <td>0.222222</td>\n",
              "      <td>2</td>\n",
              "      <td>2</td>\n",
              "      <td>12</td>\n",
              "      <td>12</td>\n",
              "      <td>1.000000</td>\n",
              "      <td>1.000000</td>\n",
              "      <td>1.0000</td>\n",
              "      <td>0.9375</td>\n",
              "      <td>37;39</td>\n",
              "      <td>0</td>\n",
              "      <td>0</td>\n",
              "      <td>46</td>\n",
              "    </tr>\n",
              "    <tr>\n",
              "      <th>1</th>\n",
              "      <td>1</td>\n",
              "      <td>0.333333</td>\n",
              "      <td>2</td>\n",
              "      <td>2</td>\n",
              "      <td>13</td>\n",
              "      <td>13</td>\n",
              "      <td>0.500000</td>\n",
              "      <td>0.000000</td>\n",
              "      <td>0.8125</td>\n",
              "      <td>0.8750</td>\n",
              "      <td>28;29;30;32;33;34;39</td>\n",
              "      <td>0</td>\n",
              "      <td>0</td>\n",
              "      <td>42</td>\n",
              "    </tr>\n",
              "    <tr>\n",
              "      <th>2</th>\n",
              "      <td>1</td>\n",
              "      <td>0.555556</td>\n",
              "      <td>2</td>\n",
              "      <td>2</td>\n",
              "      <td>14</td>\n",
              "      <td>14</td>\n",
              "      <td>0.500000</td>\n",
              "      <td>0.333333</td>\n",
              "      <td>0.8750</td>\n",
              "      <td>0.9375</td>\n",
              "      <td>29;36</td>\n",
              "      <td>46</td>\n",
              "      <td>4</td>\n",
              "      <td>48</td>\n",
              "    </tr>\n",
              "    <tr>\n",
              "      <th>3</th>\n",
              "      <td>1</td>\n",
              "      <td>0.388889</td>\n",
              "      <td>2</td>\n",
              "      <td>2</td>\n",
              "      <td>15</td>\n",
              "      <td>15</td>\n",
              "      <td>0.666667</td>\n",
              "      <td>0.666667</td>\n",
              "      <td>0.9375</td>\n",
              "      <td>0.8750</td>\n",
              "      <td>29;38;39</td>\n",
              "      <td>47</td>\n",
              "      <td>2</td>\n",
              "      <td>48</td>\n",
              "    </tr>\n",
              "    <tr>\n",
              "      <th>4</th>\n",
              "      <td>1</td>\n",
              "      <td>0.166667</td>\n",
              "      <td>2</td>\n",
              "      <td>2</td>\n",
              "      <td>10</td>\n",
              "      <td>0</td>\n",
              "      <td>0.666667</td>\n",
              "      <td>0.500000</td>\n",
              "      <td>0.8750</td>\n",
              "      <td>0.0000</td>\n",
              "      <td>27;28;29;33;34;36;38;39</td>\n",
              "      <td>0</td>\n",
              "      <td>0</td>\n",
              "      <td>40</td>\n",
              "    </tr>\n",
              "  </tbody>\n",
              "</table>\n",
              "</div>"
            ],
            "text/plain": [
              "   Gender       Age  SSC  ...  Previous Job  Period of Job  New Job\n",
              "0       1  0.222222    2  ...             0              0       46\n",
              "1       1  0.333333    2  ...             0              0       42\n",
              "2       1  0.555556    2  ...            46              4       48\n",
              "3       1  0.388889    2  ...            47              2       48\n",
              "4       1  0.166667    2  ...             0              0       40\n",
              "\n",
              "[5 rows x 14 columns]"
            ]
          },
          "metadata": {},
          "execution_count": 132
        }
      ]
    },
    {
      "cell_type": "markdown",
      "metadata": {
        "id": "1o04vl2_YHQd"
      },
      "source": [
        "##**Model**"
      ]
    },
    {
      "cell_type": "code",
      "metadata": {
        "id": "-5pYb26up8wQ",
        "colab": {
          "base_uri": "https://localhost:8080/"
        },
        "outputId": "7a3c822c-aa22-4370-abc0-7a5d42bda5bd"
      },
      "source": [
        "x = job_data.drop(['New Job'], axis=1)\n",
        "y = job_data['New Job']\n",
        "\n",
        "print(x.head(), y.head())"
      ],
      "execution_count": null,
      "outputs": [
        {
          "output_type": "stream",
          "name": "stdout",
          "text": [
            "   Gender       Age  SSC  ...                      S.Q  Previous Job  Period of Job\n",
            "0       1  0.222222    2  ...                    37;39             0              0\n",
            "1       1  0.333333    2  ...     28;29;30;32;33;34;39             0              0\n",
            "2       1  0.555556    2  ...                    29;36            46              4\n",
            "3       1  0.388889    2  ...                 29;38;39            47              2\n",
            "4       1  0.166667    2  ...  27;28;29;33;34;36;38;39             0              0\n",
            "\n",
            "[5 rows x 13 columns] 0    46\n",
            "1    42\n",
            "2    48\n",
            "3    48\n",
            "4    40\n",
            "Name: New Job, dtype: object\n"
          ]
        }
      ]
    },
    {
      "cell_type": "code",
      "metadata": {
        "id": "yPaIltqdf8Am"
      },
      "source": [
        "def toPaddedList(inp, max_len=10):\n",
        "    # Chaning string to list\n",
        "    lst = list(map(int, inp.split(';')))\n",
        "    tot = len(lst)\n",
        "\n",
        "    # Padding list by placing 0 at first place\n",
        "    # also increasing the classification label\n",
        "    if max_len != None:\n",
        "        lst = [-1 for i in range(max_len-tot)] + [i+1 for i in lst]\n",
        "    else:\n",
        "        lst = [i+1 for i in lst]\n",
        "\n",
        "    return lst\n",
        "\n",
        "\n",
        "x['S.Q'] = x['S.Q'].map(toPaddedList)\n",
        "#y = y.map(lambda a: toPaddedList(a, None))\n",
        "y = y.map(lambda a: toPaddedList(a, 6))"
      ],
      "execution_count": null,
      "outputs": []
    },
    {
      "cell_type": "code",
      "metadata": {
        "id": "-_LCb8OEhcmV",
        "colab": {
          "base_uri": "https://localhost:8080/",
          "height": 204
        },
        "outputId": "f3ec7bc0-df66-47b3-aea4-2ce6390c4eb8"
      },
      "source": [
        "x.head()"
      ],
      "execution_count": null,
      "outputs": [
        {
          "output_type": "execute_result",
          "data": {
            "text/html": [
              "<div>\n",
              "<style scoped>\n",
              "    .dataframe tbody tr th:only-of-type {\n",
              "        vertical-align: middle;\n",
              "    }\n",
              "\n",
              "    .dataframe tbody tr th {\n",
              "        vertical-align: top;\n",
              "    }\n",
              "\n",
              "    .dataframe thead th {\n",
              "        text-align: right;\n",
              "    }\n",
              "</style>\n",
              "<table border=\"1\" class=\"dataframe\">\n",
              "  <thead>\n",
              "    <tr style=\"text-align: right;\">\n",
              "      <th></th>\n",
              "      <th>Gender</th>\n",
              "      <th>Age</th>\n",
              "      <th>SSC</th>\n",
              "      <th>HSC</th>\n",
              "      <th>Honors Department</th>\n",
              "      <th>Masters Department</th>\n",
              "      <th>SSC Result</th>\n",
              "      <th>HSC Result</th>\n",
              "      <th>Honors Result</th>\n",
              "      <th>Masters Result</th>\n",
              "      <th>S.Q</th>\n",
              "      <th>Previous Job</th>\n",
              "      <th>Period of Job</th>\n",
              "    </tr>\n",
              "  </thead>\n",
              "  <tbody>\n",
              "    <tr>\n",
              "      <th>0</th>\n",
              "      <td>1</td>\n",
              "      <td>0.222222</td>\n",
              "      <td>2</td>\n",
              "      <td>2</td>\n",
              "      <td>12</td>\n",
              "      <td>12</td>\n",
              "      <td>1.000000</td>\n",
              "      <td>1.000000</td>\n",
              "      <td>1.0000</td>\n",
              "      <td>0.9375</td>\n",
              "      <td>[-1, -1, -1, -1, -1, -1, -1, -1, 38, 40]</td>\n",
              "      <td>0</td>\n",
              "      <td>0</td>\n",
              "    </tr>\n",
              "    <tr>\n",
              "      <th>1</th>\n",
              "      <td>1</td>\n",
              "      <td>0.333333</td>\n",
              "      <td>2</td>\n",
              "      <td>2</td>\n",
              "      <td>13</td>\n",
              "      <td>13</td>\n",
              "      <td>0.500000</td>\n",
              "      <td>0.000000</td>\n",
              "      <td>0.8125</td>\n",
              "      <td>0.8750</td>\n",
              "      <td>[-1, -1, -1, 29, 30, 31, 33, 34, 35, 40]</td>\n",
              "      <td>0</td>\n",
              "      <td>0</td>\n",
              "    </tr>\n",
              "    <tr>\n",
              "      <th>2</th>\n",
              "      <td>1</td>\n",
              "      <td>0.555556</td>\n",
              "      <td>2</td>\n",
              "      <td>2</td>\n",
              "      <td>14</td>\n",
              "      <td>14</td>\n",
              "      <td>0.500000</td>\n",
              "      <td>0.333333</td>\n",
              "      <td>0.8750</td>\n",
              "      <td>0.9375</td>\n",
              "      <td>[-1, -1, -1, -1, -1, -1, -1, -1, 30, 37]</td>\n",
              "      <td>46</td>\n",
              "      <td>4</td>\n",
              "    </tr>\n",
              "    <tr>\n",
              "      <th>3</th>\n",
              "      <td>1</td>\n",
              "      <td>0.388889</td>\n",
              "      <td>2</td>\n",
              "      <td>2</td>\n",
              "      <td>15</td>\n",
              "      <td>15</td>\n",
              "      <td>0.666667</td>\n",
              "      <td>0.666667</td>\n",
              "      <td>0.9375</td>\n",
              "      <td>0.8750</td>\n",
              "      <td>[-1, -1, -1, -1, -1, -1, -1, 30, 39, 40]</td>\n",
              "      <td>47</td>\n",
              "      <td>2</td>\n",
              "    </tr>\n",
              "    <tr>\n",
              "      <th>4</th>\n",
              "      <td>1</td>\n",
              "      <td>0.166667</td>\n",
              "      <td>2</td>\n",
              "      <td>2</td>\n",
              "      <td>10</td>\n",
              "      <td>0</td>\n",
              "      <td>0.666667</td>\n",
              "      <td>0.500000</td>\n",
              "      <td>0.8750</td>\n",
              "      <td>0.0000</td>\n",
              "      <td>[-1, -1, 28, 29, 30, 34, 35, 37, 39, 40]</td>\n",
              "      <td>0</td>\n",
              "      <td>0</td>\n",
              "    </tr>\n",
              "  </tbody>\n",
              "</table>\n",
              "</div>"
            ],
            "text/plain": [
              "   Gender       Age  ...  Previous Job  Period of Job\n",
              "0       1  0.222222  ...             0              0\n",
              "1       1  0.333333  ...             0              0\n",
              "2       1  0.555556  ...            46              4\n",
              "3       1  0.388889  ...            47              2\n",
              "4       1  0.166667  ...             0              0\n",
              "\n",
              "[5 rows x 13 columns]"
            ]
          },
          "metadata": {},
          "execution_count": 135
        }
      ]
    },
    {
      "cell_type": "code",
      "metadata": {
        "id": "UOktG3V5kTEy",
        "colab": {
          "base_uri": "https://localhost:8080/"
        },
        "outputId": "197f3ab9-224c-430b-bc9b-9f3d744bd25c"
      },
      "source": [
        "y.head()"
      ],
      "execution_count": null,
      "outputs": [
        {
          "output_type": "execute_result",
          "data": {
            "text/plain": [
              "0    [-1, -1, -1, -1, -1, 47]\n",
              "1    [-1, -1, -1, -1, -1, 43]\n",
              "2    [-1, -1, -1, -1, -1, 49]\n",
              "3    [-1, -1, -1, -1, -1, 49]\n",
              "4    [-1, -1, -1, -1, -1, 41]\n",
              "Name: New Job, dtype: object"
            ]
          },
          "metadata": {},
          "execution_count": 136
        }
      ]
    },
    {
      "cell_type": "code",
      "metadata": {
        "id": "e0q1v_GYkK6T",
        "colab": {
          "base_uri": "https://localhost:8080/"
        },
        "outputId": "b6cfc249-e5c8-4f66-ad1a-94276af4f765"
      },
      "source": [
        "tmp1 = x.drop(['S.Q'], axis=1).to_numpy()\n",
        "tmp2 = np.array(x['S.Q'].to_list())\n",
        "x = np.concatenate([tmp1, tmp2], axis=1)\n",
        "y = np.array(y.to_list())\n",
        "\n",
        "print(x.shape, y.shape)"
      ],
      "execution_count": null,
      "outputs": [
        {
          "output_type": "stream",
          "name": "stdout",
          "text": [
            "(411, 22) (411, 6)\n"
          ]
        }
      ]
    },
    {
      "cell_type": "code",
      "metadata": {
        "id": "_3THMYbeBU-V"
      },
      "source": [
        "#from sklearn.preprocessing import MultiLabelBinarizer\n",
        "#y = MultiLabelBinarizer().fit_transform(y.to_list())"
      ],
      "execution_count": null,
      "outputs": []
    },
    {
      "cell_type": "code",
      "metadata": {
        "id": "cY3e2g-Ohzsc",
        "colab": {
          "base_uri": "https://localhost:8080/"
        },
        "outputId": "65448b8b-3b10-4586-a825-e242b42dd348"
      },
      "source": [
        "from sklearn.model_selection import train_test_split\n",
        "\n",
        "xtrain, xtest, ytrain, ytest = train_test_split(x, y, test_size=0.20, random_state=1)\n",
        "print(\"Train:\", xtrain.shape, ytrain.shape)\n",
        "print(\"Test:\", xtest.shape, ytest.shape)"
      ],
      "execution_count": null,
      "outputs": [
        {
          "output_type": "stream",
          "name": "stdout",
          "text": [
            "Train: (328, 22) (328, 6)\n",
            "Test: (83, 22) (83, 6)\n"
          ]
        }
      ]
    },
    {
      "cell_type": "markdown",
      "metadata": {
        "id": "VINCZ8_psxJA"
      },
      "source": [
        "### **Without data augmentation**"
      ]
    },
    {
      "cell_type": "code",
      "metadata": {
        "id": "yH25p-Bro66N",
        "colab": {
          "base_uri": "https://localhost:8080/"
        },
        "outputId": "2b6e1347-999b-4ca6-d6a8-865f5e43bf8c"
      },
      "source": [
        "# Random Forest Algorithm\n",
        "from sklearn.ensemble import RandomForestClassifier\n",
        "from sklearn.multioutput import MultiOutputClassifier\n",
        "\n",
        "rf_model = MultiOutputClassifier(RandomForestClassifier(max_depth=120,\n",
        "                                                        min_samples_split=5,\n",
        "                                                        random_state=1))\n",
        "rf_model.fit(xtrain, ytrain)\n",
        "RF_train_score = rf_model.score(xtrain, ytrain)\n",
        "RF_test_score = rf_model.score(xtest, ytest)\n",
        "\n",
        "print(\"Train score:\", RF_train_score)\n",
        "print(\"Test score:\", RF_test_score)"
      ],
      "execution_count": null,
      "outputs": [
        {
          "output_type": "stream",
          "name": "stdout",
          "text": [
            "Train score: 0.9634146341463414\n",
            "Test score: 0.7831325301204819\n"
          ]
        }
      ]
    },
    {
      "cell_type": "code",
      "metadata": {
        "id": "duzz6IjXOvtU",
        "colab": {
          "base_uri": "https://localhost:8080/"
        },
        "outputId": "e223a562-fe6f-4f9e-dba3-ced35c0b8d4b"
      },
      "source": [
        "# KNN Algorithm\n",
        "from sklearn.neighbors import KNeighborsClassifier\n",
        "neigh = MultiOutputClassifier(KNeighborsClassifier(n_neighbors=3))\n",
        "neigh.fit(xtrain, ytrain)\n",
        "\n",
        "knn_train_score = neigh.score(xtrain, ytrain)\n",
        "knn_test_score = neigh.score(xtest, ytest)\n",
        "\n",
        "print(\"Train score:\", knn_train_score)\n",
        "print(\"Test score:\", knn_test_score)"
      ],
      "execution_count": null,
      "outputs": [
        {
          "output_type": "stream",
          "name": "stdout",
          "text": [
            "Train score: 0.8780487804878049\n",
            "Test score: 0.6626506024096386\n"
          ]
        }
      ]
    },
    {
      "cell_type": "code",
      "metadata": {
        "id": "XxGzsmupOwo8",
        "colab": {
          "base_uri": "https://localhost:8080/"
        },
        "outputId": "69c9c84b-822d-4c5b-9b1f-ca524a64b27b"
      },
      "source": [
        "# Naive Bayes\n",
        "from sklearn.naive_bayes import GaussianNB\n",
        "nb_clf = MultiOutputClassifier(GaussianNB())\n",
        "nb_clf.fit(xtrain, ytrain)\n",
        "\n",
        "nb_train_score = nb_clf.score(xtrain, ytrain)\n",
        "nb_test_score = nb_clf.score(xtest, ytest)\n",
        "\n",
        "print(\"Train score:\", nb_train_score)\n",
        "print(\"Test score:\", nb_test_score)"
      ],
      "execution_count": null,
      "outputs": [
        {
          "output_type": "stream",
          "name": "stdout",
          "text": [
            "Train score: 0.4329268292682927\n",
            "Test score: 0.3132530120481928\n"
          ]
        }
      ]
    },
    {
      "cell_type": "code",
      "metadata": {
        "id": "x7I_9zeqO1FG",
        "colab": {
          "base_uri": "https://localhost:8080/"
        },
        "outputId": "54787828-4622-47b2-b880-54c8aa79db74"
      },
      "source": [
        "# SVM Algorithm\n",
        "from sklearn.svm import SVC\n",
        "svm_clf = MultiOutputClassifier(SVC(gamma='auto'))\n",
        "svm_clf.fit(xtrain, ytrain)\n",
        "\n",
        "svm_train_score = svm_clf.score(xtrain, ytrain)\n",
        "svm_test_score = svm_clf.score(xtest, ytest)\n",
        "\n",
        "print(\"Train score:\", svm_train_score)\n",
        "print(\"Test score:\", svm_test_score)"
      ],
      "execution_count": null,
      "outputs": [
        {
          "output_type": "stream",
          "name": "stdout",
          "text": [
            "Train score: 0.8780487804878049\n",
            "Test score: 0.7710843373493976\n"
          ]
        }
      ]
    },
    {
      "cell_type": "markdown",
      "metadata": {
        "id": "hNKoIks3w25D"
      },
      "source": [
        "**VotingClassifier**"
      ]
    },
    {
      "cell_type": "code",
      "metadata": {
        "id": "5Ll9fvkNw2Qb",
        "colab": {
          "base_uri": "https://localhost:8080/"
        },
        "outputId": "cc745204-f2b0-485e-83ec-6a6742b82fa1"
      },
      "source": [
        "from sklearn.ensemble import VotingClassifier\n",
        "\n",
        "clf1 = RandomForestClassifier(random_state=1)\n",
        "clf2 = KNeighborsClassifier(n_neighbors=3)\n",
        "clf3 = GaussianNB()\n",
        "clf4 = SVC(gamma='auto', probability=True)\n",
        "\n",
        "eclf1 = MultiOutputClassifier(VotingClassifier(estimators=[('rf', clf1), ('knn', clf2), ('gnb', clf3), ('svm', clf4)], voting='hard'))\n",
        "eclf1.fit(xtrain, ytrain)\n",
        "\n",
        "eclf1_train_score = eclf1.score(xtrain, ytrain)\n",
        "eclf1_test_score = eclf1.score(xtest, ytest)\n",
        "\n",
        "print(\"Train score:\", eclf1_train_score)\n",
        "print(\"Test score:\", eclf1_test_score)\n",
        "print(\"..............................\")\n",
        "\n",
        "eclf2 = MultiOutputClassifier(VotingClassifier(estimators=[('rf', clf1), ('knn', clf2), ('gnb', clf3), ('svm', clf4)], \n",
        "                                               voting='soft' , \n",
        "                                               weights=[2,1,1,1], \n",
        "                                               flatten_transform=True ))\n",
        "eclf2.fit(xtrain, ytrain)\n",
        "eclf2_train_score = eclf2.score(xtrain, ytrain)\n",
        "eclf2_test_score = eclf2.score(xtest, ytest)\n",
        "\n",
        "print(\"Train score:\", eclf2_train_score)\n",
        "print(\"Test score:\", eclf2_test_score)\n"
      ],
      "execution_count": null,
      "outputs": [
        {
          "output_type": "stream",
          "name": "stdout",
          "text": [
            "Train score: 0.9573170731707317\n",
            "Test score: 0.8192771084337349\n",
            "..............................\n",
            "Train score: 0.9878048780487805\n",
            "Test score: 0.8313253012048193\n"
          ]
        }
      ]
    },
    {
      "cell_type": "markdown",
      "metadata": {
        "id": "WwSc-qOAsz2T"
      },
      "source": [
        "## **Data augmentation**"
      ]
    },
    {
      "cell_type": "code",
      "metadata": {
        "id": "5FBNQw9ppw4I"
      },
      "source": [
        "def augment_data(x, y, param=[(0, 0.1), (0.1, 0.1), (0.1, 0.15)]):\n",
        "    np.random.seed(42)\n",
        "    tmpx = [x]\n",
        "    tmpy = [y]\n",
        "    \n",
        "\n",
        "    for (mean, median) in param:\n",
        "        # Changing the CGPA in SSC, HSC, and Grad grades\n",
        "        tmp_x = np.random.normal(loc=mean, scale=median, size=x.shape)\n",
        "        _x = x.copy()\n",
        "\n",
        "        _x[6] += tmp_x[6]\n",
        "        _x[7] += tmp_x[7]\n",
        "        _x[8] += tmp_x[8]\n",
        "        _x[9] += tmp_x[9]\n",
        "\n",
        "        # Drop out some of the S.Q.\n",
        "\n",
        "        tmpx.append(_x)\n",
        "        tmpy.append(y)\n",
        "    \n",
        "    new_xt = np.concatenate(tmpx, axis=0)\n",
        "    new_yt = np.concatenate(tmpy, axis=0)\n",
        "    return new_xt, new_yt"
      ],
      "execution_count": null,
      "outputs": []
    },
    {
      "cell_type": "code",
      "metadata": {
        "id": "2JjEKZA0tXTx",
        "colab": {
          "base_uri": "https://localhost:8080/"
        },
        "outputId": "15e0a46a-dd05-4114-f52f-9e3950b6120b"
      },
      "source": [
        "aug_xtrain, aug_ytrain = augment_data(xtrain, ytrain)\n",
        "\n",
        "print(aug_xtrain.shape, aug_ytrain.shape)"
      ],
      "execution_count": null,
      "outputs": [
        {
          "output_type": "stream",
          "name": "stdout",
          "text": [
            "(1312, 22) (1312, 6)\n"
          ]
        }
      ]
    },
    {
      "cell_type": "code",
      "metadata": {
        "id": "Jaj8dT0Lte0y",
        "colab": {
          "base_uri": "https://localhost:8080/"
        },
        "outputId": "fd24eb79-a36d-4fe2-92cc-49e5f2262378"
      },
      "source": [
        "# Random Forest Algorithm\n",
        "rf_model.fit(aug_xtrain, aug_ytrain)\n",
        "RF_train_score2 = rf_model.score(xtrain, ytrain)\n",
        "RF_test_score2 = rf_model.score(xtest, ytest)\n",
        "\n",
        "print(\"Train score:\", RF_train_score2)\n",
        "print(\"Test score:\", RF_test_score2)"
      ],
      "execution_count": null,
      "outputs": [
        {
          "output_type": "stream",
          "name": "stdout",
          "text": [
            "Train score: 1.0\n",
            "Test score: 0.8313253012048193\n"
          ]
        }
      ]
    },
    {
      "cell_type": "code",
      "metadata": {
        "id": "B1xv8oPxtY1I",
        "colab": {
          "base_uri": "https://localhost:8080/"
        },
        "outputId": "845962c7-8a6d-47f2-a2d6-14a1ac2eda0b"
      },
      "source": [
        "# KNN Algorithm\n",
        "neigh.fit(aug_xtrain, aug_ytrain)\n",
        "knn_train_score2 = neigh.score(xtrain, ytrain)\n",
        "knn_test_score2 = neigh.score(xtest, ytest)\n",
        "\n",
        "print(\"Train score:\", knn_train_score2)\n",
        "print(\"Test score:\", knn_test_score2)"
      ],
      "execution_count": null,
      "outputs": [
        {
          "output_type": "stream",
          "name": "stdout",
          "text": [
            "Train score: 1.0\n",
            "Test score: 0.8674698795180723\n"
          ]
        }
      ]
    },
    {
      "cell_type": "code",
      "metadata": {
        "id": "DVIbFzAAt8k2",
        "colab": {
          "base_uri": "https://localhost:8080/"
        },
        "outputId": "26fe9363-0c36-4474-c028-3aa724559f24"
      },
      "source": [
        "# Naive Bayes\n",
        "nb_clf.fit(aug_xtrain, aug_ytrain)\n",
        "nb_train_score2 = nb_clf.score(xtrain, ytrain)\n",
        "nb_test_score2 = nb_clf.score(xtest, ytest)\n",
        "\n",
        "print(\"Train score:\", nb_train_score2)\n",
        "print(\"Test score:\", nb_test_score2)"
      ],
      "execution_count": null,
      "outputs": [
        {
          "output_type": "stream",
          "name": "stdout",
          "text": [
            "Train score: 0.4298780487804878\n",
            "Test score: 0.3132530120481928\n"
          ]
        }
      ]
    },
    {
      "cell_type": "code",
      "metadata": {
        "id": "Tgdy1ibzxQbr",
        "colab": {
          "base_uri": "https://localhost:8080/"
        },
        "outputId": "d3244aa4-c985-49f2-839c-1f95d508cad6"
      },
      "source": [
        "# SVM Algorithm\n",
        "svm_clf.fit(aug_xtrain, aug_ytrain)\n",
        "svm_train_score2 = svm_clf.score(xtrain, ytrain)\n",
        "svm_test_score2 = svm_clf.score(xtest, ytest)\n",
        "\n",
        "print(\"Train score:\", svm_train_score2)\n",
        "print(\"Test score:\", svm_test_score2)"
      ],
      "execution_count": null,
      "outputs": [
        {
          "output_type": "stream",
          "name": "stdout",
          "text": [
            "Train score: 0.9390243902439024\n",
            "Test score: 0.8313253012048193\n"
          ]
        }
      ]
    },
    {
      "cell_type": "markdown",
      "metadata": {
        "id": "hM39y63_wmxa"
      },
      "source": [
        "**VotingClassifier**"
      ]
    },
    {
      "cell_type": "code",
      "metadata": {
        "id": "Nl-L1iQBwlyD",
        "colab": {
          "base_uri": "https://localhost:8080/"
        },
        "outputId": "e377a703-3f42-4ad9-955b-6604e58e9295"
      },
      "source": [
        "eclf1.fit(aug_xtrain, aug_ytrain)\n",
        "eclf1_train_score2 = eclf1.score(xtrain, ytrain)\n",
        "eclf1_test_score2 = eclf1.score(xtest, ytest)\n",
        "\n",
        "print(\"Train score:\", eclf1_train_score2)\n",
        "print(\"Test score:\", eclf1_test_score2)\n",
        "print(\"..............................\")\n",
        "\n",
        "\n",
        "eclf2.fit(aug_xtrain, aug_ytrain)\n",
        "eclf2_train_score2 = eclf2.score(xtrain, ytrain)\n",
        "eclf2_test_score2 = eclf2.score(xtest, ytest)\n",
        "\n",
        "print(\"Train score:\", eclf2_train_score2)\n",
        "print(\"Test score:\", eclf2_test_score2)\n"
      ],
      "execution_count": null,
      "outputs": [
        {
          "output_type": "stream",
          "name": "stdout",
          "text": [
            "Train score: 1.0\n",
            "Test score: 0.8674698795180723\n",
            "..............................\n",
            "Train score: 1.0\n",
            "Test score: 0.8433734939759037\n"
          ]
        }
      ]
    },
    {
      "cell_type": "markdown",
      "metadata": {
        "id": "EqnwQt_YLkBs"
      },
      "source": [
        "**Accuracy Visualization**"
      ]
    },
    {
      "cell_type": "code",
      "metadata": {
        "colab": {
          "base_uri": "https://localhost:8080/",
          "height": 297
        },
        "id": "2sMU1--8HnYM",
        "outputId": "e9483230-d60d-4801-b217-035ad3057d76"
      },
      "source": [
        "import matplotlib.pyplot as plt\n",
        "import numpy as np\n",
        "\n",
        "labels = ['Random Forest', 'KNN', 'Naïve Bayes ', 'SVM', 'VotingClassifier']\n",
        "TrainScore0 = [RF_train_score, knn_train_score, nb_train_score, svm_train_score, eclf2_train_score]\n",
        "TestScore0 = [RF_test_score, knn_test_score, nb_test_score, svm_test_score, eclf2_test_score]\n",
        "\n",
        "x = np.arange(len(labels))  # the label locations\n",
        "width = 0.35  # the width of the bars\n",
        "\n",
        "fig, ax = plt.subplots(figsize=(7,4))\n",
        "rects1 = ax.bar(x , TrainScore0, width, label='train', color=\"salmon\")\n",
        "rects2 = ax.bar(x + width/2, TestScore0, width, label='test', color=\"lightblue\")\n",
        "\n",
        "# Add some text for labels, title and custom x-axis tick labels, etc.\n",
        "ax.set_ylabel('Score')\n",
        "ax.set_title('Accuracy (Without Augmentation)')\n",
        "ax.set_xticks(x)\n",
        "ax.set_xticklabels(labels)\n",
        "ax.legend(bbox_to_anchor=(1, 1), loc='upper left')\n",
        "\n",
        "fig.tight_layout()\n",
        "plt.show()"
      ],
      "execution_count": null,
      "outputs": [
        {
          "output_type": "display_data",
          "data": {
            "image/png": "[encoded data removed]",
            "text/plain": [
              "<Figure size 504x288 with 1 Axes>"
            ]
          },
          "metadata": {}
        }
      ]
    },
    {
      "cell_type": "code",
      "metadata": {
        "colab": {
          "base_uri": "https://localhost:8080/",
          "height": 297
        },
        "id": "HhQwjNufJ-Cz",
        "outputId": "667b9127-a769-4e1a-a5f8-3686ae5b2c5b"
      },
      "source": [
        "TrainScore1 = [RF_train_score2, knn_train_score2, nb_train_score2, svm_train_score2, eclf2_train_score2]\n",
        "TestScore1 = [RF_test_score2, knn_test_score2, nb_test_score2, svm_test_score2, eclf2_test_score2]\n",
        "\n",
        "x = np.arange(len(labels))  # the label locations\n",
        "width = 0.35  # the width of the bars\n",
        "\n",
        "fig, ax = plt.subplots(figsize=(7,4))\n",
        "rects1 = ax.bar(x , TrainScore1, width, label='train')\n",
        "rects2 = ax.bar(x + width/2, TestScore1, width, label='test')\n",
        "\n",
        "# Add some text for labels, title and custom x-axis tick labels, etc.\n",
        "ax.set_ylabel('Score')\n",
        "ax.set_title('Accuracy (With Augmentation)')\n",
        "ax.set_xticks(x)\n",
        "ax.set_xticklabels(labels)\n",
        "ax.legend(bbox_to_anchor=(1, 1), loc='upper left')\n",
        "\n",
        "fig.tight_layout()\n",
        "plt.show()"
      ],
      "execution_count": null,
      "outputs": [
        {
          "output_type": "display_data",
          "data": {
            "image/png": "[encoded data removed]",
            "text/plain": [
              "<Figure size 504x288 with 1 Axes>"
            ]
          },
          "metadata": {}
        }
      ]
    },
    {
      "cell_type": "code",
      "metadata": {
        "id": "F4KoTCVi_SfD",
        "colab": {
          "base_uri": "https://localhost:8080/",
          "height": 374
        },
        "outputId": "0e226c9d-c27d-4ee3-a20c-f1d151048eeb"
      },
      "source": [
        "data = {'Train': RF_train_score, 'Test': RF_test_score, 'Aug_Train': RF_train_score2, 'Aug_test': RF_test_score2}\n",
        "names = list(data.keys())\n",
        "values = list(data.values())\n",
        "\n",
        "fig, axs = plt.subplots(1, 3, figsize=(15, 5), sharey=True)\n",
        "axs[0].bar(names, values, color=['#5F9EA0', '#5F9EA0','#6495ED','#6495ED'])\n",
        "axs[1].scatter(names, values, color=['#5F9EA0', '#5F9EA0','#6495ED','#6495ED'])\n",
        "axs[2].plot(names, values)\n",
        "fig.suptitle('Random Forest Accuracy')"
      ],
      "execution_count": null,
      "outputs": [
        {
          "output_type": "execute_result",
          "data": {
            "text/plain": [
              "Text(0.5, 0.98, 'Random Forest Accuracy')"
            ]
          },
          "metadata": {},
          "execution_count": 154
        },
        {
          "output_type": "display_data",
          "data": {
            "image/png": "[encoded data removed]",
            "text/plain": [
              "<Figure size 1080x360 with 3 Axes>"
            ]
          },
          "metadata": {}
        }
      ]
    },
    {
      "cell_type": "markdown",
      "metadata": {
        "id": "Ix9kOmQXLjTL"
      },
      "source": [
        "# **Classification Report**"
      ]
    },
    {
      "cell_type": "code",
      "metadata": {
        "id": "JcbEH1k2WR8j"
      },
      "source": [
        "from sklearn.metrics import confusion_matrix\n",
        "from sklearn.metrics import classification_report\n",
        "\n",
        "#y_pred = rf_model.predict(xtest)\n",
        "#y_pred = rf_model.predict(aug_xtrain)\n",
        "#ytest = aug_ytrain\n",
        "\n",
        "#report = classification_report(ytest[:, 5], y_pred[:, 5], labels=np.unique(y_pred[:, 5]))\n",
        "#print(report)"
      ],
      "execution_count": null,
      "outputs": []
    },
    {
      "cell_type": "code",
      "metadata": {
        "colab": {
          "base_uri": "https://localhost:8080/"
        },
        "id": "Yd_2Exx_2yme",
        "outputId": "92e0ce61-5af8-43e6-ad36-0b89bc9be851"
      },
      "source": [
        "from sklearn.metrics import accuracy_score\n",
        "from sklearn.metrics import precision_score\n",
        "from sklearn.metrics import f1_score\n",
        "from sklearn.metrics import recall_score\n",
        "\n",
        "#Random Forest\n",
        "y_pred = rf_model.predict(xtest)\n",
        "print(\"Accuracy:\", format(accuracy_score(ytest[:, 5], y_pred[:, 5]) , \".2f\"))\n",
        "print(\"Precision:\", format(precision_score(ytest[:, 5], y_pred[:, 5], average='macro', zero_division=0), \".2f\"))\n",
        "print(\"Recall:\", format(recall_score(ytest[:, 5], y_pred[:, 5], average='micro'), \".2f\"))\n",
        "print(\"F1 Score:\", format(f1_score(ytest[:, 5], y_pred[:, 5], average='macro'), \".2f\"))"
      ],
      "execution_count": null,
      "outputs": [
        {
          "output_type": "stream",
          "name": "stdout",
          "text": [
            "Accuracy: 0.86\n",
            "Precision: 0.73\n",
            "Recall: 0.86\n",
            "F1 Score: 0.73\n"
          ]
        }
      ]
    },
    {
      "cell_type": "code",
      "metadata": {
        "colab": {
          "base_uri": "https://localhost:8080/"
        },
        "id": "yAO6AKKg_nEd",
        "outputId": "6b11ef67-6520-4c3a-93ad-d60bf44b7f59"
      },
      "source": [
        "#KNN\n",
        "y_pred = neigh.predict(xtest)\n",
        "print(\"Accuracy:\", format(accuracy_score(ytest[:, 5], y_pred[:, 5]) , \".2f\"))\n",
        "print(\"Precision:\", format(precision_score(ytest[:, 5], y_pred[:, 5], average='macro', zero_division=0), \".2f\"))\n",
        "print(\"Recall:\", format(recall_score(ytest[:, 5], y_pred[:, 5], average='macro', zero_division=0), \".2f\"))\n",
        "print(\"F1 Score:\", format(f1_score(ytest[:, 5], y_pred[:, 5], average='macro'), \".2f\"))"
      ],
      "execution_count": null,
      "outputs": [
        {
          "output_type": "stream",
          "name": "stdout",
          "text": [
            "Accuracy: 0.89\n",
            "Precision: 0.79\n",
            "Recall: 0.83\n",
            "F1 Score: 0.81\n"
          ]
        }
      ]
    },
    {
      "cell_type": "code",
      "metadata": {
        "colab": {
          "base_uri": "https://localhost:8080/"
        },
        "id": "fY4ZqpWZG5ht",
        "outputId": "31898260-c23b-451b-cac5-fdfe9459ad2d"
      },
      "source": [
        "# Naive Bayes\n",
        "y_pred = nb_clf.predict(xtest)\n",
        "print(\"Accuracy:\", format(accuracy_score(ytest[:, 5], y_pred[:, 5]) , \".2f\"))\n",
        "print(\"Precision:\", format(precision_score(ytest[:, 5], y_pred[:, 5], average='macro', zero_division=0), \".2f\"))\n",
        "print(\"Recall:\", format(recall_score(ytest[:, 5], y_pred[:, 5], average='micro'), \".2f\"))\n",
        "print(\"F1 Score:\", format(f1_score(ytest[:, 5], y_pred[:, 5], average='macro'), \".2f\"))"
      ],
      "execution_count": null,
      "outputs": [
        {
          "output_type": "stream",
          "name": "stdout",
          "text": [
            "Accuracy: 0.45\n",
            "Precision: 0.45\n",
            "Recall: 0.45\n",
            "F1 Score: 0.43\n"
          ]
        }
      ]
    },
    {
      "cell_type": "code",
      "metadata": {
        "colab": {
          "base_uri": "https://localhost:8080/"
        },
        "id": "rO23hVuOHPbT",
        "outputId": "0e4ff32f-cc1c-461d-da97-3137cd6a69ce"
      },
      "source": [
        "# SVM\n",
        "y_pred = svm_clf.predict(xtest)\n",
        "print(\"Accuracy:\", format(accuracy_score(ytest[:, 5], y_pred[:, 5]) , \".2f\"))\n",
        "print(\"Precision:\", format(precision_score(ytest[:, 5], y_pred[:, 5], average='macro', zero_division=0), \".2f\"))\n",
        "print(\"Recall:\", format(recall_score(ytest[:, 5], y_pred[:, 5], average='micro'), \".2f\"))\n",
        "print(\"F1 Score:\", format(f1_score(ytest[:, 5], y_pred[:, 5], average='macro'), \".2f\"))"
      ],
      "execution_count": null,
      "outputs": [
        {
          "output_type": "stream",
          "name": "stdout",
          "text": [
            "Accuracy: 0.86\n",
            "Precision: 0.76\n",
            "Recall: 0.86\n",
            "F1 Score: 0.75\n"
          ]
        }
      ]
    },
    {
      "cell_type": "code",
      "metadata": {
        "colab": {
          "base_uri": "https://localhost:8080/"
        },
        "id": "F8q0PhyvJtXc",
        "outputId": "c12d0cbf-6692-44eb-e402-7cac3746b382"
      },
      "source": [
        "# Voting Classifier\n",
        "y_pred = eclf1.predict(xtest)\n",
        "print(\"Accuracy:\", format(accuracy_score(ytest[:, 5], y_pred[:, 5]) , \".2f\"))\n",
        "print(\"Precision:\", format(precision_score(ytest[:, 5], y_pred[:, 5], average='macro', zero_division=0), \".2f\"))\n",
        "print(\"Recall:\", format(recall_score(ytest[:, 5], y_pred[:, 5], average='macro'), \".2f\"))\n",
        "print(\"F1 Score:\", format(f1_score(ytest[:, 5], y_pred[:, 5], average='macro'), \".2f\"))"
      ],
      "execution_count": null,
      "outputs": [
        {
          "output_type": "stream",
          "name": "stdout",
          "text": [
            "Accuracy: 0.89\n",
            "Precision: 0.84\n",
            "Recall: 0.83\n",
            "F1 Score: 0.83\n"
          ]
        }
      ]
    }
  ]
}